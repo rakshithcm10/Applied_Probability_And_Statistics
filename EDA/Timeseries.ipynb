{
  "cells": [
    {
      "cell_type": "code",
      "execution_count": 14,
      "metadata": {
        "id": "48vAXjSNQSI3"
      },
      "outputs": [
        {
          "name": "stderr",
          "output_type": "stream",
          "text": [
            "/var/folders/fx/jqp4w8917kg8hz3_gsxtf9z80000gn/T/ipykernel_39522/2214897761.py:18: MatplotlibDeprecationWarning: The seaborn styles shipped by Matplotlib are deprecated since 3.6, as they no longer correspond to the styles shipped by seaborn. However, they will remain available as 'seaborn-v0_8-<style>'. Alternatively, directly use the seaborn API instead.\n",
            "  plt.style.use('seaborn-whitegrid')\n"
          ]
        }
      ],
      "source": [
        "import pandas as pd\n",
        "import numpy as np\n",
        "import math\n",
        "import os\n",
        "import sys\n",
        "import datetime\n",
        "\n",
        "# from scipy.spatial.distance import pdist, squareform\n",
        "# from scipy.fftpack import fft\n",
        "# from sklearn.manifold import MDS\n",
        "# from sklearn.neighbors import NearestNeighbors\n",
        "from sklearn.preprocessing import StandardScaler, FunctionTransformer\n",
        "# from sklearn.linear_model import LinearRegression, Ridge, Lasso\n",
        "\n",
        "import matplotlib.pyplot as plt\n",
        "import matplotlib.cm as cm\n",
        "import matplotlib.dates as dates\n",
        "plt.style.use('seaborn-whitegrid')\n",
        "%matplotlib inline\n",
        "plt.rcParams['figure.figsize'] = (6.0, 4.0) # set default size of plots\n",
        "import matplotlib.pyplot as plt"
      ]
    },
    {
      "cell_type": "code",
      "execution_count": 15,
      "metadata": {
        "id": "HYX1T_zSVIvI"
      },
      "outputs": [],
      "source": [
        "## Mount Google drive folder if running in Colab\n",
        "if('google.colab' in sys.modules):\n",
        "    from google.colab import drive\n",
        "    drive.mount('/content/drive', force_remount = True)\n",
        "    DIR = '/content/drive/MyDrive/Colab Notebooks/MAHE/MSIS Coursework/Miniprojects/Adil'\n",
        "    DATA_DIR = DIR + '/Data/'\n",
        "    os.chdir(DIR)\n",
        "else:\n",
        "    DATA_DIR = 'Data/'"
      ]
    },
    {
      "cell_type": "code",
      "execution_count": 16,
      "metadata": {},
      "outputs": [
        {
          "data": {
            "text/plain": [
              "pandas.core.frame.DataFrame"
            ]
          },
          "execution_count": 16,
          "metadata": {},
          "output_type": "execute_result"
        }
      ],
      "source": [
        "FILE = DATA_DIR + 'timeseriesdata.csv'\n",
        "df = pd.read_csv(FILE, sep = \",\", header = 0)\n",
        "type(df[['time']])"
      ]
    },
    {
      "cell_type": "code",
      "execution_count": 17,
      "metadata": {},
      "outputs": [],
      "source": [
        "df['time'] = pd.to_datetime(df['time'], format='%m-%d-%Y %H.%M')"
      ]
    },
    {
      "cell_type": "code",
      "execution_count": 18,
      "metadata": {
        "id": "NzPfv_CVyDpq"
      },
      "outputs": [
        {
          "data": {
            "text/html": [
              "<div>\n",
              "<style scoped>\n",
              "    .dataframe tbody tr th:only-of-type {\n",
              "        vertical-align: middle;\n",
              "    }\n",
              "\n",
              "    .dataframe tbody tr th {\n",
              "        vertical-align: top;\n",
              "    }\n",
              "\n",
              "    .dataframe thead th {\n",
              "        text-align: right;\n",
              "    }\n",
              "</style>\n",
              "<table border=\"1\" class=\"dataframe\">\n",
              "  <thead>\n",
              "    <tr style=\"text-align: right;\">\n",
              "      <th></th>\n",
              "      <th>Cyclone_Inlet_Gas_Temp</th>\n",
              "      <th>Cyclone_Material_Temp</th>\n",
              "      <th>Cyclone_Outlet_Gas_draft</th>\n",
              "      <th>Cyclone_cone_draft</th>\n",
              "      <th>Cyclone_Gas_Outlet_Temp</th>\n",
              "      <th>Cyclone_Inlet_Draft</th>\n",
              "    </tr>\n",
              "    <tr>\n",
              "      <th>time</th>\n",
              "      <th></th>\n",
              "      <th></th>\n",
              "      <th></th>\n",
              "      <th></th>\n",
              "      <th></th>\n",
              "      <th></th>\n",
              "    </tr>\n",
              "  </thead>\n",
              "  <tbody>\n",
              "    <tr>\n",
              "      <th>2017-01-01 00:00:00</th>\n",
              "      <td>867.63</td>\n",
              "      <td>910.42</td>\n",
              "      <td>-189.54</td>\n",
              "      <td>-186.04</td>\n",
              "      <td>852.13</td>\n",
              "      <td>-145.90</td>\n",
              "    </tr>\n",
              "    <tr>\n",
              "      <th>2017-01-01 00:05:00</th>\n",
              "      <td>879.23</td>\n",
              "      <td>918.14</td>\n",
              "      <td>-184.33</td>\n",
              "      <td>-182.10</td>\n",
              "      <td>862.53</td>\n",
              "      <td>-149.76</td>\n",
              "    </tr>\n",
              "    <tr>\n",
              "      <th>2017-01-01 00:10:00</th>\n",
              "      <td>875.67</td>\n",
              "      <td>924.18</td>\n",
              "      <td>-181.26</td>\n",
              "      <td>-166.47</td>\n",
              "      <td>866.06</td>\n",
              "      <td>-145.01</td>\n",
              "    </tr>\n",
              "    <tr>\n",
              "      <th>2017-01-01 00:15:00</th>\n",
              "      <td>875.28</td>\n",
              "      <td>923.15</td>\n",
              "      <td>-179.15</td>\n",
              "      <td>-174.83</td>\n",
              "      <td>865.85</td>\n",
              "      <td>-142.82</td>\n",
              "    </tr>\n",
              "    <tr>\n",
              "      <th>2017-01-01 00:20:00</th>\n",
              "      <td>891.66</td>\n",
              "      <td>934.26</td>\n",
              "      <td>-178.32</td>\n",
              "      <td>-173.72</td>\n",
              "      <td>876.06</td>\n",
              "      <td>-143.39</td>\n",
              "    </tr>\n",
              "  </tbody>\n",
              "</table>\n",
              "</div>"
            ],
            "text/plain": [
              "                     Cyclone_Inlet_Gas_Temp  Cyclone_Material_Temp  \\\n",
              "time                                                                 \n",
              "2017-01-01 00:00:00                  867.63                 910.42   \n",
              "2017-01-01 00:05:00                  879.23                 918.14   \n",
              "2017-01-01 00:10:00                  875.67                 924.18   \n",
              "2017-01-01 00:15:00                  875.28                 923.15   \n",
              "2017-01-01 00:20:00                  891.66                 934.26   \n",
              "\n",
              "                     Cyclone_Outlet_Gas_draft  Cyclone_cone_draft  \\\n",
              "time                                                                \n",
              "2017-01-01 00:00:00                   -189.54             -186.04   \n",
              "2017-01-01 00:05:00                   -184.33             -182.10   \n",
              "2017-01-01 00:10:00                   -181.26             -166.47   \n",
              "2017-01-01 00:15:00                   -179.15             -174.83   \n",
              "2017-01-01 00:20:00                   -178.32             -173.72   \n",
              "\n",
              "                     Cyclone_Gas_Outlet_Temp  Cyclone_Inlet_Draft  \n",
              "time                                                               \n",
              "2017-01-01 00:00:00                   852.13              -145.90  \n",
              "2017-01-01 00:05:00                   862.53              -149.76  \n",
              "2017-01-01 00:10:00                   866.06              -145.01  \n",
              "2017-01-01 00:15:00                   865.85              -142.82  \n",
              "2017-01-01 00:20:00                   876.06              -143.39  "
            ]
          },
          "execution_count": 18,
          "metadata": {},
          "output_type": "execute_result"
        }
      ],
      "source": [
        "## Read data\n",
        "FILE = DATA_DIR + 'timeseriesdata.csv'\n",
        "df = pd.read_csv(FILE, sep = \",\", header = 0)\n",
        "df['time'] = pd.to_datetime(df['time'], format='%m-%d-%Y %H.%M')\n",
        "df.loc[:, (df.columns != 'time')] = df.loc[:, df.columns != 'time'].apply(pd.to_numeric, errors = 'coerce')\n",
        "df = df.set_index('time')\n",
        "df.head()"
      ]
    },
    {
      "cell_type": "code",
      "execution_count": 19,
      "metadata": {
        "id": "vi5aIXFAgAZ9"
      },
      "outputs": [
        {
          "data": {
            "text/plain": [
              "Text(0, 0.5, '% Missing Values')"
            ]
          },
          "execution_count": 19,
          "metadata": {},
          "output_type": "execute_result"
        },
        {
          "data": {
            "image/png": "[encoded data removed]",
            "text/plain": [
              "<Figure size 600x600 with 1 Axes>"
            ]
          },
          "metadata": {},
          "output_type": "display_data"
        }
      ],
      "source": [
        "## Plot percentage of missing values (NaNs) for each feature\n",
        "cutoff = 30\n",
        "fig = plt.figure(figsize=(6, 6))\n",
        "percent_missing = (df.isna().sum() / df.shape[0]) * 100\n",
        "percent_missing.plot(kind = 'bar', color = cm.rainbow(np.linspace(0, 1, 2))[(percent_missing <= cutoff).values.astype(int)])\n",
        "plt.plot(np.arange(df.shape[1]), np.repeat(cutoff, df.shape[1]), 'g--')\n",
        "fig.suptitle('Percentage Missing Values Across All Features', fontsize = 20)\n",
        "plt.xlabel('Feature', fontsize = 16)\n",
        "plt.ylabel('% Missing Values', fontsize = 16)"
      ]
    },
    {
      "cell_type": "code",
      "execution_count": 20,
      "metadata": {},
      "outputs": [
        {
          "data": {
            "text/plain": [
              "Cyclone_Inlet_Gas_Temp      float64\n",
              "Cyclone_Material_Temp       float64\n",
              "Cyclone_Outlet_Gas_draft    float64\n",
              "Cyclone_cone_draft          float64\n",
              "Cyclone_Gas_Outlet_Temp     float64\n",
              "Cyclone_Inlet_Draft         float64\n",
              "dtype: object"
            ]
          },
          "execution_count": 20,
          "metadata": {},
          "output_type": "execute_result"
        }
      ],
      "source": [
        "df.dtypes"
      ]
    },
    {
      "cell_type": "code",
      "execution_count": 21,
      "metadata": {
        "id": "KX12wcB4QSI-"
      },
      "outputs": [
        {
          "data": {
            "text/plain": [
              "Cyclone_Inlet_Gas_Temp      0.0\n",
              "Cyclone_Material_Temp       0.0\n",
              "Cyclone_Outlet_Gas_draft    0.0\n",
              "Cyclone_cone_draft          0.0\n",
              "Cyclone_Gas_Outlet_Temp     0.0\n",
              "Cyclone_Inlet_Draft         0.0\n",
              "dtype: float64"
            ]
          },
          "execution_count": 21,
          "metadata": {},
          "output_type": "execute_result"
        }
      ],
      "source": [
        "## Linear interpolation for one column\n",
        "#df['Cyclone_Inlet_Gas_Temp'] = df['Cyclone_Inlet_Gas_Temp'].interpolate(method = 'linear')\n",
        "df.loc[:, (df.columns != 'time')] = df.loc[:, df.columns != 'time'].interpolate(method = 'linear')\n",
        "(df.isna().sum() / df.shape[0]) * 100"
      ]
    },
    {
      "cell_type": "code",
      "execution_count": 22,
      "metadata": {},
      "outputs": [
        {
          "data": {
            "text/plain": [
              "array([867.63, 879.23, 875.67, ..., 887.2 , 908.5 , 880.86])"
            ]
          },
          "execution_count": 22,
          "metadata": {},
          "output_type": "execute_result"
        }
      ],
      "source": [
        "df['Cyclone_Inlet_Gas_Temp'].values"
      ]
    },
    {
      "cell_type": "code",
      "execution_count": 25,
      "metadata": {},
      "outputs": [
        {
          "data": {
            "text/plain": [
              "array([[0.42943325],\n",
              "       [0.4646117 ],\n",
              "       [0.45381555],\n",
              "       ...,\n",
              "       [0.48878172],\n",
              "       [0.55337663],\n",
              "       [0.46955488]])"
            ]
          },
          "execution_count": 25,
          "metadata": {},
          "output_type": "execute_result"
        }
      ],
      "source": [
        "sc=StandardScaler()\n",
        "sc.fit_transform(df.loc[:,'Cyclone_Inlet_Gas_Temp'].values.reshape(-1,1))"
      ]
    },
    {
      "cell_type": "code",
      "execution_count": null,
      "metadata": {
        "id": "HVMSss1ge5iz"
      },
      "outputs": [
        {
          "data": {
            "text/plain": [
              "time\n",
              "2017-01-01 00:00:00    [867.63, 879.23, 875.67, 875.28, 891.66, 878.5...\n",
              "2017-01-01 12:00:00    [867.67, 894.24, 868.19, 897.61, 858.37, 886.0...\n",
              "2017-01-02 00:00:00    [874.96, 911.36, 871.52, 902.01, 890.17, 923.8...\n",
              "2017-01-02 12:00:00    [886.09, 910.84, 876.72, 920.58, 874.44, 909.9...\n",
              "2017-01-03 00:00:00    [895.79, 890.98, 885.45, 907.22, 880.65, 882.1...\n",
              "dtype: object"
            ]
          },
          "execution_count": 8,
          "metadata": {},
          "output_type": "execute_result"
        }
      ],
      "source": [
        "## Data preparation for anomaly detection\n",
        "feature = df.columns[0] # \"Cyclone_Inlet_Gas_Temp\"\n",
        "sampling_period = 5*60 # in seconds of the dataset as provided\n",
        "time_period =  '20min' # time duration in seconds corresoponding to each sample, in this case 12 hours\n",
        "scaler = {'identity': FunctionTransformer(lambda x: x), 'standard': StandardScaler()}\n",
        "df_transformed = pd.DataFrame(scaler['identity'].fit_transform(df))\n",
        "df_transformed.index = df.index.copy()\n",
        "df_transformed.columns = df.columns.copy()\n",
        "df_anomaly = df_transformed.groupby(pd.Grouper(freq = str(time_period)+'S')).apply(lambda x: x[feature].values if len(x[feature].values) == int(pd.Timedelta(str(time_period/sampling_period)+'S').total_seconds()) else np.nan)\n",
        "df_anomaly = df_anomaly.dropna()\n",
        "df_anomaly.head()"
      ]
    },
    {
      "cell_type": "code",
      "execution_count": null,
      "metadata": {
        "id": "60UJr6I-YL8N"
      },
      "outputs": [
        {
          "name": "stdout",
          "output_type": "stream",
          "text": [
            "[[867.63 879.23 875.67 ... 874.13 894.03 867.67]\n",
            " [879.23 875.67 875.28 ... 894.03 867.67 894.24]\n",
            " [875.67 875.28 891.66 ... 867.67 894.24 868.19]\n",
            " ...\n",
            " [912.37 911.44 917.29 ... 899.42 879.9  887.2 ]\n",
            " [911.44 917.29 888.21 ... 879.9  887.2  908.5 ]\n",
            " [917.29 888.21 902.03 ... 887.2  908.5  880.86]]\n"
          ]
        }
      ],
      "source": [
        "## Data preparation for autoregression\n",
        "feature = df.columns[0] # \"Cyclone_Inlet_Gas_Temp\"\n",
        "# Sampling period of the dataset (in this case, 5 mins)\n",
        "sampling_period = int(pd.Timedelta('5min').total_seconds()) # in seconds\n",
        "# Lag for autoregression (in this case, we regress on the past 12 hours):\n",
        "lag = int(pd.Timedelta('12h').total_seconds()) # in seconds\n",
        "scaler = {'identity': FunctionTransformer(lambda x: x), 'standard': StandardScaler()}\n",
        "df_transformed = pd.DataFrame(scaler['identity'].fit_transform(df))\n",
        "df_transformed.columns = df.columns.copy()\n",
        "df_transformed.index = df.index.copy()\n",
        "# Number of rows for rolling corresponding to the specified lag\n",
        "nroll = int(pd.Timedelta(str(lag/sampling_period)+'S').total_seconds())+1\n",
        "# Numpy array for autoregression\n",
        "X = np.lib.stride_tricks.sliding_window_view(df_transformed[feature], nroll)\n",
        "print(X)"
      ]
    },
    {
      "cell_type": "code",
      "execution_count": null,
      "metadata": {
        "id": "-RkruqhXXryh"
      },
      "outputs": [],
      "source": [
        "## Function for component-plotting a vector (that is, a time series sample)\n",
        "def plotveccomp(x, xlab, ylab, title, axis = None):\n",
        "  ax = axis\n",
        "  component_index = range(0, len(x))\n",
        "  ax.plot(component_index, x, color = 'black', marker = '')\n",
        "  ax.plot(component_index, [np.mean(x)]*len(x), linewidth = 1, linestyle = 'dashed', color ='blue')\n",
        "  ax.plot(component_index, [np.mean(x) - np.std(x)]*len(x), linewidth = 1, linestyle = 'dashed', color ='red')\n",
        "  ax.plot(component_index, [np.mean(x) + np.std(x)]*len(x), linewidth = 1, linestyle = 'dashed', color ='red')\n",
        "  ax.xaxis.set_minor_locator(dates.HourLocator(interval=4))\n",
        "  #ax.xaxis.set_minor_formatter(dates.DateFormatter('%H:%M'))  # hours and minutes\n",
        "  ax.set_xlabel(xlab)\n",
        "  ax.set_ylabel(ylab)\n",
        "  ax.set_title(title)"
      ]
    }
  ],
  "metadata": {
    "colab": {
      "provenance": []
    },
    "kernelspec": {
      "display_name": "Python 3",
      "language": "python",
      "name": "python3"
    },
    "language_info": {
      "codemirror_mode": {
        "name": "ipython",
        "version": 3
      },
      "file_extension": ".py",
      "mimetype": "text/x-python",
      "name": "python",
      "nbconvert_exporter": "python",
      "pygments_lexer": "ipython3",
      "version": "3.9.17"
    },
    "vscode": {
      "interpreter": {
        "hash": "854f9ff9f945bab8ba5d04e939504df285fc62eb45b7a687b185fca2375459b7"
      }
    }
  },
  "nbformat": 4,
  "nbformat_minor": 0
}
